{
 "cells": [
  {
   "cell_type": "markdown",
   "id": "20b1619e",
   "metadata": {},
   "source": [
    "## Import program dependencies"
   ]
  },
  {
   "cell_type": "code",
   "execution_count": 1,
   "id": "08eb5409",
   "metadata": {},
   "outputs": [],
   "source": [
    "from imutils.video import VideoStream\n",
    "import numpy as np\n",
    "import imutils\n",
    "import cv2 as cv"
   ]
  },
  {
   "cell_type": "markdown",
   "id": "a10f33cc",
   "metadata": {},
   "source": [
    "## Load the serialized black and white colorizer model and cluster center points"
   ]
  },
  {
   "cell_type": "code",
   "execution_count": 2,
   "id": "e6cd796d",
   "metadata": {},
   "outputs": [],
   "source": [
    "prototxt = '[YOUR WORKSPACE]\\\\colorization_deploy_v2.prototxt'\n",
    "model = '[YOUR WORKSPACE]\\\\colorization_release_v2.caffemodel'\n",
    "points = '[YOUR WORKSPACE]\\\\colorized\\\\pts_in_hull.npy'\n",
    "video = '[YOUR WORKSPACE]\\\\[YOUR VIDEO.MP4]'\n",
    "net = cv.dnn.readNetFromCaffe(prototxt, model)\n",
    "pts = np.load(points)"
   ]
  },
  {
   "cell_type": "markdown",
   "id": "e2d05427",
   "metadata": {},
   "source": [
    "## Determine number of frames and frame rate"
   ]
  },
  {
   "cell_type": "code",
   "execution_count": 3,
   "id": "c187e5ac",
   "metadata": {},
   "outputs": [
    {
     "name": "stdout",
     "output_type": "stream",
     "text": [
      "5466.0\n"
     ]
    }
   ],
   "source": [
    "vs = cv.VideoCapture(video)\n",
    "number_of_frames = vs.get(cv.CAP_PROP_FRAME_COUNT)\n",
    "frame_rate = vs.get(cv.CAP_PROP_FPS)\n",
    "print(number_of_frames)"
   ]
  },
  {
   "cell_type": "code",
   "execution_count": 4,
   "id": "27a83cdb",
   "metadata": {},
   "outputs": [
    {
     "name": "stdout",
     "output_type": "stream",
     "text": [
      "25.0\n"
     ]
    }
   ],
   "source": [
    "print(frame_rate)"
   ]
  },
  {
   "cell_type": "markdown",
   "id": "136745e7",
   "metadata": {},
   "source": [
    "## Add the cluster centers as 1x1 convolutions to the model"
   ]
  },
  {
   "cell_type": "code",
   "execution_count": 5,
   "id": "e46ce5df",
   "metadata": {},
   "outputs": [],
   "source": [
    "class8 = net.getLayerId('class8_ab')\n",
    "conv8 = net.getLayerId('conv8_313_rh')\n",
    "pts = pts.transpose().reshape(2, 313, 1, 1)\n",
    "net.getLayer(class8).blobs = [pts.astype('float32')]\n",
    "net.getLayer(conv8).blobs = [np.full([1, 313], 2.606, dtype = 'float32')]"
   ]
  },
  {
   "cell_type": "markdown",
   "id": "d6361ec1",
   "metadata": {},
   "source": [
    "## Colorize and save each individual frame"
   ]
  },
  {
   "cell_type": "code",
   "execution_count": 6,
   "id": "b5abf985",
   "metadata": {},
   "outputs": [],
   "source": [
    "count = 0\n",
    "success = True\n",
    "while success:\n",
    "    success, frame = vs.read()\n",
    "    if frame is None:\n",
    "        break\n",
    "    \n",
    "    scaled = frame.astype('float32') / 255.0\n",
    "    lab = cv.cvtColor(scaled, cv.COLOR_RGB2LAB)\n",
    "    \n",
    "    resized = cv.resize(lab, (224, 224))\n",
    "    L = cv.split(resized)[0]\n",
    "    L -= 50\n",
    "    \n",
    "    net.setInput(cv.dnn.blobFromImage(L))\n",
    "    ab = net.forward()[0, :, :, :].transpose((1, 2, 0))\n",
    "    \n",
    "    ab = cv.resize(ab, (frame.shape[1], frame.shape[0]))\n",
    "    L = cv.split(lab)[0]\n",
    "    colorized = np.concatenate((L[:, :, np.newaxis], ab), axis = 2)\n",
    "    \n",
    "    colorized = cv.cvtColor(colorized, cv.COLOR_LAB2BGR)\n",
    "    colorized = np.clip(colorized, 0, 1)\n",
    "    colorized = (255 * colorized).astype('uint8')\n",
    "\n",
    "    cv.imwrite('[YOUR WORKSPACE]\\\\Frames\\\\Frame%d.jpg' % count, colorized)\n",
    "    count += 1\n",
    "\n",
    "vs.release()\n",
    "cv.destroyAllWindows()"
   ]
  },
  {
   "cell_type": "markdown",
   "id": "ba7eb7b7",
   "metadata": {},
   "source": [
    "## Function for converting the individual frames back to video"
   ]
  },
  {
   "cell_type": "code",
   "execution_count": 12,
   "id": "0da39ad9",
   "metadata": {},
   "outputs": [],
   "source": [
    "def convert_frames_to_video(pathin, pathout):\n",
    "    frame_array = []\n",
    "    for lp in range(int(number_of_frames)):\n",
    "        filename = pathin + 'Frame' + str(lp) + '.jpg'\n",
    "        img = cv.imread(filename)\n",
    "        height, width, layers = img.shape\n",
    "        size = (width, height)\n",
    "        frame_array.append(img)\n",
    "    out = cv.VideoWriter(pathout, cv.VideoWriter_fourcc(*'MJPG'), frame_rate, size)\n",
    "    \n",
    "    for lp in range(len(frame_array)):\n",
    "        out.write(frame_array[lp])\n",
    "    out.release()"
   ]
  },
  {
   "cell_type": "markdown",
   "id": "ccd02bc4",
   "metadata": {},
   "source": [
    "## Perform frame-to-video conversion"
   ]
  },
  {
   "cell_type": "code",
   "execution_count": 13,
   "id": "8f04dda9",
   "metadata": {},
   "outputs": [],
   "source": [
    "pathin = '[YOUR WORKSPACE]\\\\Frames\\\\'\n",
    "pathout = '[YOUR WORKSPACE]\\\\[YOUR OUTPUT VIDEO.MP4]'\n",
    "convert_frames_to_video(pathin, pathout)"
   ]
  },
  {
   "cell_type": "code",
   "execution_count": null,
   "id": "b6d475fd",
   "metadata": {},
   "outputs": [],
   "source": []
  }
 ],
 "metadata": {
  "kernelspec": {
   "display_name": "Python 3",
   "language": "python",
   "name": "python3"
  },
  "language_info": {
   "codemirror_mode": {
    "name": "ipython",
    "version": 3
   },
   "file_extension": ".py",
   "mimetype": "text/x-python",
   "name": "python",
   "nbconvert_exporter": "python",
   "pygments_lexer": "ipython3",
   "version": "3.8.8"
  }
 },
 "nbformat": 4,
 "nbformat_minor": 5
}
